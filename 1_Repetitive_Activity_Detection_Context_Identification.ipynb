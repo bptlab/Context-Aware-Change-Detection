{
 "cells": [
  {
   "cell_type": "code",
   "execution_count": null,
   "metadata": {
    "scrolled": true
   },
   "outputs": [],
   "source": [
    "import numpy as np\n",
    "from psycopg2 import connect\n",
    "import pandas as pd\n",
    "import pm4py\n",
    "import numpy as np\n",
    "import pandasql as ps\n",
    "from pm4py.objects.conversion.log import converter as log_converter\n",
    "from scipy.stats import variation\n",
    "from scipy import stats\n",
    "from pm4py.algo.discovery.dfg import algorithm as dfg_discovery\n",
    "from pm4py.visualization.dfg import visualizer as dfg_visualization\n",
    "from pm4py.statistics.eventually_follows.log import get as efg_get\n",
    "import matplotlib.cm as cm\n",
    "import matplotlib.pyplot as plt\n",
    "import sklearn.preprocessing as sk\n",
    "from scipy.stats import chi2_contingency\n",
    "import math\n",
    "import statistics\n",
    "import pingouin as pg\n",
    "import graphviz\n",
    "from statsmodels.stats import multitest\n",
    "from statsmodels.stats.contingency_tables import SquareTable as ST\n",
    "import math\n",
    "import copy"
   ]
  },
  {
   "cell_type": "code",
   "execution_count": null,
   "metadata": {},
   "outputs": [],
   "source": [
    "#MIMIC-IV event log\n",
    "df = pd.read_csv(\"Logs/MIMIC_2.0.csv\")"
   ]
  },
  {
   "cell_type": "code",
   "execution_count": null,
   "metadata": {},
   "outputs": [],
   "source": [
    "#Sepsis event log\n",
    "df = pd.read_csv(\"Logs/Sepsis Cases - Event Log.csv\")\n",
    "df = df.rename(columns={\"Complete Timestamp\":\"time:timestamp\", \"Case ID\":\"case:hadm_id\", \"Activity\":\"concept:name\"})"
   ]
  },
  {
   "cell_type": "code",
   "execution_count": null,
   "metadata": {},
   "outputs": [],
   "source": [
    "#when entering a custom event log, make sure, that timestamp, case id, and activity are named accordingly:\n",
    "#timestamp\"time:timestamp\", Case ID:\"case:hadm_id\", Activity:\"concept:name\""
   ]
  },
  {
   "cell_type": "code",
   "execution_count": null,
   "metadata": {},
   "outputs": [],
   "source": [
    "df[\"time:timestamp\"] = df[\"time:timestamp\"].apply(lambda x: pd.to_datetime(x))"
   ]
  },
  {
   "cell_type": "code",
   "execution_count": null,
   "metadata": {},
   "outputs": [],
   "source": [
    "hadms = list(df[\"case:hadm_id\"].unique())"
   ]
  },
  {
   "cell_type": "code",
   "execution_count": null,
   "metadata": {},
   "outputs": [],
   "source": [
    "df = df.sort_values([\"case:hadm_id\", \"time:timestamp\"])"
   ]
  },
  {
   "cell_type": "code",
   "execution_count": null,
   "metadata": {},
   "outputs": [],
   "source": [
    "parameters = {log_converter.Variants.TO_EVENT_LOG.value.Parameters.CASE_ID_KEY: 'case:hadm_id'}\n",
    "event_log = pm4py.format_dataframe(df, case_id='case:hadm_id', activity_key='concept:name', timestamp_key='time:timestamp')\n",
    "log = pm4py.convert_to_event_log(event_log)"
   ]
  },
  {
   "cell_type": "code",
   "execution_count": null,
   "metadata": {},
   "outputs": [],
   "source": [
    "dfg = dfg_discovery.apply(log)\n",
    "dfg, sa, ea = pm4py.discover_directly_follows_graph(log)\n",
    "activities_count = pm4py.get_event_attribute_values(log, \"concept:name\")"
   ]
  },
  {
   "cell_type": "code",
   "execution_count": null,
   "metadata": {},
   "outputs": [],
   "source": [
    "acts = []\n",
    "for act in activities_count:\n",
    "    acts.append(act)\n",
    "real_acts = copy.deepcopy(acts)\n",
    "dfr_acts = copy.deepcopy(acts)\n",
    "dpr_acts = copy.deepcopy(acts)"
   ]
  },
  {
   "cell_type": "code",
   "execution_count": null,
   "metadata": {},
   "outputs": [],
   "source": [
    "dfr_Matrix = pd.DataFrame(columns=dfr_acts, index=dfr_acts)\n",
    "dpr_Matrix = pd.DataFrame(columns=dpr_acts, index=dpr_acts)"
   ]
  },
  {
   "cell_type": "code",
   "execution_count": null,
   "metadata": {},
   "outputs": [],
   "source": [
    "dfr_activities_count = copy.deepcopy(activities_count)\n",
    "dpr_activities_count = copy.deepcopy(activities_count)"
   ]
  },
  {
   "cell_type": "code",
   "execution_count": null,
   "metadata": {},
   "outputs": [],
   "source": [
    "#dfr\n",
    "dfr_dict={}\n",
    "for act_1 in dfr_activities_count:\n",
    "    results = list()\n",
    "    for act_2 in dfr_activities_count:  \n",
    "        dfr_total = dfg[(act_1, act_2)]\n",
    "        act_count = activities_count[act_2]\n",
    "        res = dfr_total/act_count\n",
    "        dfr_Matrix.loc[act_1, act_2] = res\n",
    "        results.append(res)\n",
    "    dfr_dict[act_1] = results\n",
    "    \n",
    "        "
   ]
  },
  {
   "cell_type": "code",
   "execution_count": null,
   "metadata": {},
   "outputs": [],
   "source": [
    "#dpr\n",
    "dpr_dict={}\n",
    "for act_1 in dpr_activities_count:\n",
    "    results = list()\n",
    "    for act_2 in dpr_activities_count:  \n",
    "        dpr_total = dfg[(act_2, act_1)]\n",
    "        act_count = activities_count[act_2]\n",
    "        res = dpr_total/act_count\n",
    "        dpr_Matrix.loc[act_1, act_2] = res\n",
    "        results.append(res)\n",
    "    dpr_dict[act_1] = results\n",
    "    \n",
    "        "
   ]
  },
  {
   "cell_type": "code",
   "execution_count": null,
   "metadata": {},
   "outputs": [],
   "source": [
    "dfr_Matrix\n",
    "#row to column read: Measurement preceds Start Invasive Ventilation"
   ]
  },
  {
   "cell_type": "code",
   "execution_count": null,
   "metadata": {
    "scrolled": false
   },
   "outputs": [],
   "source": [
    "dpr_Matrix\n",
    "#row to column read: Measurement proceedes Start Invasive Ventilation or START"
   ]
  },
  {
   "cell_type": "code",
   "execution_count": null,
   "metadata": {},
   "outputs": [],
   "source": [
    "df_res = pd.DataFrame(columns=[\"sum\"], index=real_acts)\n",
    "for act in real_acts:\n",
    "    l_dfr = list(dfr_Matrix.loc[act])\n",
    "    l_dpr = list(dpr_Matrix.loc[act])\n",
    "    df_res.loc[act, \"sum\"] = (sum(l_dfr) + sum(l_dpr)) / ((len(real_acts)+1) * 2)"
   ]
  },
  {
   "cell_type": "code",
   "execution_count": null,
   "metadata": {},
   "outputs": [],
   "source": [
    "df_res.sort_values(\"sum\", ascending=False).head(20)"
   ]
  },
  {
   "cell_type": "code",
   "execution_count": null,
   "metadata": {},
   "outputs": [],
   "source": [
    "def identify_context(events_to_transform, lambd):\n",
    "    mapping_before = {}\n",
    "    mapping_after = {}\n",
    "    for val in events_to_transform:\n",
    "        names_before = list(dfr_Matrix.loc[val].index)\n",
    "        names_after = list(dpr_Matrix.loc[val].index)\n",
    "        mapping_before[val] = []\n",
    "        mapping_after[val] = []\n",
    "        for index,rep_score in enumerate(dfr_Matrix.loc[val]):\n",
    "            if names_before[index] in events_to_transform or \"LacticAcid\" in names_before[index]:\n",
    "                continue\n",
    "            if rep_score > lambd:\n",
    "                mapping_before[val].append(names_before[index])\n",
    "        for index,rep_score in enumerate(dpr_Matrix.loc[val]):\n",
    "            if names_before[index] in events_to_transform or \"LacticAcid\" in names_before[index]:\n",
    "                continue\n",
    "            if rep_score > lambd:\n",
    "                mapping_after[val].append(names_after[index])\n",
    "    return mapping_before, mapping_after"
   ]
  },
  {
   "cell_type": "code",
   "execution_count": null,
   "metadata": {},
   "outputs": [],
   "source": [
    "#MIMIC-IV event log\n",
    "events_to_transform = [\"Measurement\"]"
   ]
  },
  {
   "cell_type": "code",
   "execution_count": null,
   "metadata": {},
   "outputs": [],
   "source": [
    "mapping_before, mapping_after = identify_context(events_to_transform, 0.75)"
   ]
  },
  {
   "cell_type": "code",
   "execution_count": null,
   "metadata": {},
   "outputs": [],
   "source": [
    "#Sepsis event log\n",
    "events_to_transform = [\"CRP\", \"Leucocytes\"]"
   ]
  },
  {
   "cell_type": "code",
   "execution_count": null,
   "metadata": {},
   "outputs": [],
   "source": [
    "#context identification for Sepsis\n",
    "mapping_before, mapping_after = identify_context(events_to_transform, 0.18)"
   ]
  },
  {
   "cell_type": "code",
   "execution_count": null,
   "metadata": {},
   "outputs": [],
   "source": [
    "#End OF Discovery and Context Identification"
   ]
  },
  {
   "cell_type": "code",
   "execution_count": null,
   "metadata": {},
   "outputs": [],
   "source": [
    "########Event Transformation#########"
   ]
  },
  {
   "cell_type": "code",
   "execution_count": null,
   "metadata": {},
   "outputs": [],
   "source": [
    "def transform_event(df, rep_event, rep_mapping_before, rep_mapping_after):\n",
    "    rows_to_add_intern = []\n",
    "    row_to_add = {}\n",
    "    case_ids = list(df[\"case:hadm_id\"].unique())\n",
    "    for case_id in case_ids:\n",
    "        df_case = df.loc[df[\"case:hadm_id\"] == case_id]\n",
    "        #df_case = df_case.reset_index().drop(\"index\", axis=1)\n",
    "        for index, row in df_case.iterrows():\n",
    "            if row[\"concept:name\"] == rep_event:\n",
    "                try:\n",
    "                    if df_case.loc[index+1][\"concept:name\"] in rep_mapping_before:\n",
    "                        row_to_add = row\n",
    "                        row_to_add[\"concept:name\"] = row_to_add[\"concept:name\"] + \" BEFORE \" + df_case.loc[index+1][\"concept:name\"]\n",
    "                        row_to_add[\"event_time\"] = df_case.loc[index+1][\"time:timestamp\"]\n",
    "                        row_to_add[\"time_diff\"] = row_to_add[\"event_time\"] - row_to_add[\"time:timestamp\"]\n",
    "                        rows_to_add_intern.append(row_to_add)\n",
    "                    else:\n",
    "                        pass\n",
    "                except Exception as e:\n",
    "                    pass\n",
    "        \n",
    "        for index, row in df_case.iterrows():\n",
    "            if row[\"concept:name\"] == rep_event:\n",
    "                try:\n",
    "                    if df_case.loc[index-1][\"concept:name\"] in rep_mapping_after:\n",
    "                        row_to_add = row\n",
    "                        row_to_add[\"concept:name\"] = row_to_add[\"concept:name\"] + \" AFTER \" + df_case.loc[index-1][\"concept:name\"]\n",
    "                        row_to_add[\"event_time\"] = df_case.loc[index-1][\"time:timestamp\"]\n",
    "                        row_to_add[\"time_diff\"] = row_to_add[\"time:timestamp\"] - row_to_add[\"event_time\"]\n",
    "                        rows_to_add_intern.append(row_to_add)\n",
    "                    else:\n",
    "                        pass\n",
    "                except:\n",
    "                    pass\n",
    "    rows_to_add_intern = pd.DataFrame(rows_to_add_intern)\n",
    "    rows_to_add_intern = rows_to_add_intern.sort_values([\"case:hadm_id\", \"time_diff\"])\n",
    "    rows_to_add_intern = rows_to_add_intern.drop_duplicates([\"case:hadm_id\", \"time:timestamp\"], keep=\"first\")\n",
    "    return rows_to_add_intern"
   ]
  },
  {
   "cell_type": "code",
   "execution_count": null,
   "metadata": {},
   "outputs": [],
   "source": [
    "rows_to_add = pd.DataFrame()\n",
    "df_new_rows = pd.DataFrame()\n",
    "for rep_event in events_to_transform:\n",
    "    df_e = df.copy()\n",
    "    for e in events_to_transform:\n",
    "        if e != rep_event:\n",
    "            df_e = df_e.loc[df_e[\"concept:name\"] != e]\n",
    "    df_e = df_e.sort_values([\"case:hadm_id\", \"time:timestamp\"])\n",
    "    df_e = df_e.reset_index().drop(\"index\", axis=1)\n",
    "    rows_to_add = transform_event(df_e, rep_event, mapping_before[rep_event], mapping_after[rep_event])\n",
    "    df_new_rows = pd.concat([df_new_rows, rows_to_add])\n",
    "new_df = df.copy()\n",
    "for rep_event in events_to_transform:\n",
    "    new_df = new_df.loc[new_df[\"concept:name\"] != rep_event]\n",
    "new_df = pd.concat([new_df, df_new_rows])\n",
    "new_df = new_df.sort_values([\"case:hadm_id\", \"time:timestamp\"])"
   ]
  },
  {
   "cell_type": "code",
   "execution_count": null,
   "metadata": {},
   "outputs": [],
   "source": [
    "#Sepsis Transformed\n",
    "new_df.to_csv(\"Outputs/Sepsis_Transformed.csv\")"
   ]
  },
  {
   "cell_type": "code",
   "execution_count": null,
   "metadata": {},
   "outputs": [],
   "source": [
    "#MIMIC Transformed\n",
    "new_df.to_csv(\"Outputs/MIMIC_Transformed.csv\")"
   ]
  }
 ],
 "metadata": {
  "kernelspec": {
   "display_name": "Python 3",
   "language": "python",
   "name": "python3"
  },
  "language_info": {
   "codemirror_mode": {
    "name": "ipython",
    "version": 3
   },
   "file_extension": ".py",
   "mimetype": "text/x-python",
   "name": "python",
   "nbconvert_exporter": "python",
   "pygments_lexer": "ipython3",
   "version": "3.8.3"
  }
 },
 "nbformat": 4,
 "nbformat_minor": 4
}
